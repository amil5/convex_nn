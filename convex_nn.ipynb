{
 "cells": [
  {
   "cell_type": "markdown",
   "id": "8d35bbb8",
   "metadata": {},
   "source": [
    "# From `convex_nn.py`\n",
    "\n",
    "This is a basic CVXPY based implementation on a toy dataset for the paper \"Neural Networks are Convex Regularizers: Exact Polynomial-time Convex Optimization Formulations for Two-layer Networks\""
   ]
  },
  {
   "cell_type": "code",
   "execution_count": 2,
   "id": "ffc392a1",
   "metadata": {},
   "outputs": [],
   "source": [
    "import numpy as np\n",
    "import cvxpy as cp\n",
    "import matplotlib.pyplot as plt"
   ]
  },
  {
   "cell_type": "code",
   "execution_count": 4,
   "id": "420b04d0",
   "metadata": {},
   "outputs": [
    {
     "name": "stdout",
     "output_type": "stream",
     "text": [
      "Convex program objective value (eq (8)):  0.0006786295805386881\n"
     ]
    }
   ],
   "source": [
    "def relu(x):\n",
    "    return np.maximum(0,x)\n",
    "\n",
    "def drelu(x):\n",
    "    return x>=0\n",
    "\n",
    "n=10\n",
    "d=3\n",
    "X=np.random.randn(n,d-1)\n",
    "X=np.append(X,np.ones((n,1)),axis=1)\n",
    "\n",
    "y=((np.linalg.norm(X[:,0:d-1],axis=1)>1)-0.5)*2\n",
    "beta=1e-4\n",
    "\n",
    "dmat=np.empty((n,0))\n",
    "\n",
    "## Finite approximation of all possible sign patterns\n",
    "for i in range(int(1e2)):\n",
    "    u=np.random.randn(d,1)\n",
    "    dmat=np.append(dmat,drelu(np.dot(X,u)),axis=1)\n",
    "\n",
    "dmat=(np.unique(dmat,axis=1))\n",
    "\n",
    "# Optimal CVX\n",
    "m1=dmat.shape[1]\n",
    "Uopt1=cp.Variable((d,m1))\n",
    "Uopt2=cp.Variable((d,m1))\n",
    "\n",
    "## Below we use hinge loss as a performance metric for binary classification\n",
    "yopt1=cp.Parameter((n,1))\n",
    "yopt2=cp.Parameter((n,1))\n",
    "yopt1=cp.sum(cp.multiply(dmat,(X@Uopt1)),axis=1)\n",
    "yopt2=cp.sum(cp.multiply(dmat,(X@Uopt2)),axis=1)\n",
    "cost=cp.sum(cp.pos(1-cp.multiply(y,yopt1-yopt2)))/n+beta*(cp.mixed_norm(Uopt1.T,2,1)+cp.mixed_norm(Uopt2.T,2,1))\n",
    "constraints=[]\n",
    "constraints+=[cp.multiply((2*dmat-np.ones((n,m1))),(X@Uopt1))>=0]\n",
    "constraints+=[cp.multiply((2*dmat-np.ones((n,m1))),(X@Uopt2))>=0]\n",
    "prob=cp.Problem(cp.Minimize(cost),constraints)\n",
    "prob.solve()\n",
    "cvx_opt=prob.value\n",
    "print(\"Convex program objective value (eq (8)): \",cvx_opt)"
   ]
  },
  {
   "cell_type": "code",
   "execution_count": null,
   "id": "0f6ec9c9",
   "metadata": {},
   "outputs": [],
   "source": []
  }
 ],
 "metadata": {
  "kernelspec": {
   "display_name": "Python 3 (ipykernel)",
   "language": "python",
   "name": "python3"
  },
  "language_info": {
   "codemirror_mode": {
    "name": "ipython",
    "version": 3
   },
   "file_extension": ".py",
   "mimetype": "text/x-python",
   "name": "python",
   "nbconvert_exporter": "python",
   "pygments_lexer": "ipython3",
   "version": "3.9.7"
  }
 },
 "nbformat": 4,
 "nbformat_minor": 5
}
